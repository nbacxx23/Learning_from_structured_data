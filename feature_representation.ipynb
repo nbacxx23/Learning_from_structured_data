{
 "cells": [
  {
   "cell_type": "code",
   "execution_count": 97,
   "metadata": {
    "collapsed": true
   },
   "outputs": [],
   "source": [
    "from nltk.corpus import treebank\n",
    "import numpy as np"
   ]
  },
  {
   "cell_type": "code",
   "execution_count": 118,
   "metadata": {
    "collapsed": false
   },
   "outputs": [],
   "source": [
    "data = treebank.tagged_words()\n",
    "sentences = treebank.tagged_sents()\n",
    "max_length = 271\n",
    "max_tag = 46\n"
   ]
  },
  {
   "cell_type": "code",
   "execution_count": 99,
   "metadata": {
    "collapsed": false
   },
   "outputs": [],
   "source": [
    "def make_index(s):\n",
    "    dict_s = dict.fromkeys(s)\n",
    "    k = 0\n",
    "    for i in dict_s:\n",
    "        dict_s[i] = k\n",
    "        k +=1\n",
    "    return dict_s"
   ]
  },
  {
   "cell_type": "code",
   "execution_count": 100,
   "metadata": {
    "collapsed": false
   },
   "outputs": [],
   "source": [
    "def data_inf(data):\n",
    "    word = set()\n",
    "    pos = set()\n",
    "    pairs = set()\n",
    "    for pair in data:\n",
    "        word.add(pair[0])\n",
    "        pos.add(pair[1])\n",
    "        pairs.add(pair)\n",
    "    word = make_index(word)\n",
    "    pos = make_index(pos)\n",
    "    pairs = make_index(pairs)\n",
    "    return word,pos,pairs"
   ]
  },
  {
   "cell_type": "code",
   "execution_count": 101,
   "metadata": {
    "collapsed": false
   },
   "outputs": [],
   "source": [
    "word_index,pos_index,pairs_index = data_inf(data)"
   ]
  },
  {
   "cell_type": "code",
   "execution_count": 102,
   "metadata": {
    "collapsed": false
   },
   "outputs": [],
   "source": [
    "def presentation_word(word, word_index):\n",
    "    l = len(word_index)\n",
    "    index = word_index[word]\n",
    "    word_feat = np.zeros(l)\n",
    "    word_feat[index] = 1\n",
    "    return word_feat"
   ]
  },
  {
   "cell_type": "code",
   "execution_count": 103,
   "metadata": {
    "collapsed": false
   },
   "outputs": [],
   "source": [
    "def presentation_pos(pos, pos_index):\n",
    "    l = len(pos_index)\n",
    "    index = pos_index[pos]\n",
    "    pos_feat = np.zeros(l)\n",
    "    pos_feat[index] = 1\n",
    "    return pos_feat"
   ]
  },
  {
   "cell_type": "code",
   "execution_count": 104,
   "metadata": {
    "collapsed": false
   },
   "outputs": [],
   "source": [
    "def presentation_pair(pair, pairs_index):\n",
    "    l = len(pairs_index)\n",
    "    index = pairs_index[pair]\n",
    "    pair_feat = np.zeros(l)\n",
    "    pair_feat[index] = 1\n",
    "    return pair_feat"
   ]
  },
  {
   "cell_type": "code",
   "execution_count": 112,
   "metadata": {
    "collapsed": false
   },
   "outputs": [],
   "source": [
    "def position(position):\n",
    "    position_feat = np.zeros(max_length)\n",
    "    position_feat[position] = 1\n",
    "    return position_feat"
   ]
  },
  {
   "cell_type": "code",
   "execution_count": 150,
   "metadata": {
    "collapsed": false
   },
   "outputs": [],
   "source": [
    "def neighbors_pos(position, sentence_pos):\n",
    "    last_pos_feat = np.zeros(max_tag+1)\n",
    "    last_two_pos_feat = np.zeros(max_tag+1)\n",
    "    next_pos_feat = np.zeros(max_tag+1)\n",
    "    next_two_pos_feat = np.zeros(max_tag+1)\n",
    "    #length of the sentence\n",
    "    max_length_sentence = len(sentence_pos)\n",
    "    #pos for neighbors\n",
    "    if position==0:\n",
    "        last_pos_feat[-1] = 1\n",
    "        last_two_pos_feat[-1] = 1\n",
    "        if max_length_sentence==1:\n",
    "            next_pos_feat[-1]=1\n",
    "            next_two_pos_feat[-1]=1\n",
    "        elif max_length_sentence == 2:\n",
    "            next_pos_feat[sentence_pos[1]] = 1\n",
    "            next_two_pos_feat[-1] = 1\n",
    "        else:\n",
    "            next_pos_feat[sentence_pos[1]]=1\n",
    "            next_two_pos_feat[sentence_pos[2]] =1\n",
    "    elif position == 1:\n",
    "        last_pos_feat[sentence_pos[0]]=1\n",
    "        last_two_pos_feat[-1]=1\n",
    "        if max_length_sentence==2:\n",
    "            next_pos_feat[-1]=1\n",
    "            next_two_pos_feat[-1]=1\n",
    "        elif max_length==3:\n",
    "            next_pos_feat[sentence_pos[2]]=1\n",
    "            next_two_pos_feat[-1]=1\n",
    "        else:\n",
    "            next_pos_feat[sentence_pos[position+1]]=1\n",
    "            next_two_pos_feat[sentence_pos[position+2]]=1\n",
    "    else:\n",
    "        if position + 1 == max_length_sentence:\n",
    "            next_pos_feat[-1]=1\n",
    "            next_two_pos_feat[-1]=1\n",
    "            last_pos_feat[sentence_pos[position-1]]=1\n",
    "            last_two_pos_feat[sentence_pos[position-2]]=1\n",
    "        elif position + 2 == max_length_sentence:\n",
    "            next_pos_feat[sentence_pos[position+1]]=1\n",
    "            next_two_pos_feat[-1]=1\n",
    "            last_pos_feat[sentence_pos[position-1]]=1\n",
    "            last_two_pos_feat[sentence_pos[position-2]]=1\n",
    "        else:\n",
    "            next_pos_feat[sentence_pos[position+1]]=1\n",
    "            next_two_pos_feat[sentence_pos[position+2]]=1\n",
    "            last_pos_feat[sentence_pos[position-1]]=1\n",
    "            last_two_pos_feat[sentence_pos[position-2]]=1\n",
    "    return next_pos_feat,next_two_pos_feat,last_pos_feat,last_two_pos_feat\n",
    "            \n",
    "    "
   ]
  },
  {
   "cell_type": "code",
   "execution_count": 151,
   "metadata": {
    "collapsed": false
   },
   "outputs": [
    {
     "data": {
      "text/plain": [
       "[(u'Pierre', u'NNP'),\n",
       " (u'Vinken', u'NNP'),\n",
       " (u',', u','),\n",
       " (u'61', u'CD'),\n",
       " (u'years', u'NNS'),\n",
       " (u'old', u'JJ'),\n",
       " (u',', u','),\n",
       " (u'will', u'MD'),\n",
       " (u'join', u'VB'),\n",
       " (u'the', u'DT'),\n",
       " (u'board', u'NN'),\n",
       " (u'as', u'IN'),\n",
       " (u'a', u'DT'),\n",
       " (u'nonexecutive', u'JJ'),\n",
       " (u'director', u'NN'),\n",
       " (u'Nov.', u'NNP'),\n",
       " (u'29', u'CD'),\n",
       " (u'.', u'.')]"
      ]
     },
     "execution_count": 151,
     "metadata": {},
     "output_type": "execute_result"
    }
   ],
   "source": [
    "sentences[0]"
   ]
  },
  {
   "cell_type": "code",
   "execution_count": 152,
   "metadata": {
    "collapsed": false
   },
   "outputs": [],
   "source": [
    "w=[]\n",
    "t=[]\n",
    "t_index=[]\n",
    "for i in sentences[0]:\n",
    "    w.append(i[0])\n",
    "    t_index.append(pos_index[i[1]])\n",
    "    t.append(i[1])"
   ]
  },
  {
   "cell_type": "code",
   "execution_count": 153,
   "metadata": {
    "collapsed": false
   },
   "outputs": [
    {
     "data": {
      "text/plain": [
       "[u'NNP',\n",
       " u'NNP',\n",
       " u',',\n",
       " u'CD',\n",
       " u'NNS',\n",
       " u'JJ',\n",
       " u',',\n",
       " u'MD',\n",
       " u'VB',\n",
       " u'DT',\n",
       " u'NN',\n",
       " u'IN',\n",
       " u'DT',\n",
       " u'JJ',\n",
       " u'NN',\n",
       " u'NNP',\n",
       " u'CD',\n",
       " u'.']"
      ]
     },
     "execution_count": 153,
     "metadata": {},
     "output_type": "execute_result"
    }
   ],
   "source": [
    "t"
   ]
  },
  {
   "cell_type": "code",
   "execution_count": 167,
   "metadata": {
    "collapsed": false
   },
   "outputs": [
    {
     "ename": "IndexError",
     "evalue": "list index out of range",
     "output_type": "error",
     "traceback": [
      "\u001b[0;31m---------------------------------------------------------------------------\u001b[0m",
      "\u001b[0;31mIndexError\u001b[0m                                Traceback (most recent call last)",
      "\u001b[0;32m<ipython-input-167-c0d28a0be859>\u001b[0m in \u001b[0;36m<module>\u001b[0;34m()\u001b[0m\n\u001b[0;32m----> 1\u001b[0;31m \u001b[0mfeat\u001b[0m \u001b[0;34m=\u001b[0m \u001b[0mneighbors_pos\u001b[0m\u001b[0;34m(\u001b[0m\u001b[0mposition\u001b[0m\u001b[0;34m=\u001b[0m\u001b[0;36m18\u001b[0m\u001b[0;34m,\u001b[0m\u001b[0msentence_pos\u001b[0m\u001b[0;34m=\u001b[0m\u001b[0mt_index\u001b[0m\u001b[0;34m)\u001b[0m\u001b[0;34m\u001b[0m\u001b[0m\n\u001b[0m",
      "\u001b[0;32m<ipython-input-150-bf4e6e08544b>\u001b[0m in \u001b[0;36mneighbors_pos\u001b[0;34m(position, sentence_pos)\u001b[0m\n\u001b[1;32m     43\u001b[0m             \u001b[0mlast_two_pos_feat\u001b[0m\u001b[0;34m[\u001b[0m\u001b[0msentence_pos\u001b[0m\u001b[0;34m[\u001b[0m\u001b[0mposition\u001b[0m\u001b[0;34m-\u001b[0m\u001b[0;36m2\u001b[0m\u001b[0;34m]\u001b[0m\u001b[0;34m]\u001b[0m\u001b[0;34m=\u001b[0m\u001b[0;36m1\u001b[0m\u001b[0;34m\u001b[0m\u001b[0m\n\u001b[1;32m     44\u001b[0m         \u001b[0;32melse\u001b[0m\u001b[0;34m:\u001b[0m\u001b[0;34m\u001b[0m\u001b[0m\n\u001b[0;32m---> 45\u001b[0;31m             \u001b[0mnext_pos_feat\u001b[0m\u001b[0;34m[\u001b[0m\u001b[0msentence_pos\u001b[0m\u001b[0;34m[\u001b[0m\u001b[0mposition\u001b[0m\u001b[0;34m+\u001b[0m\u001b[0;36m1\u001b[0m\u001b[0;34m]\u001b[0m\u001b[0;34m]\u001b[0m\u001b[0;34m=\u001b[0m\u001b[0;36m1\u001b[0m\u001b[0;34m\u001b[0m\u001b[0m\n\u001b[0m\u001b[1;32m     46\u001b[0m             \u001b[0mnext_two_pos_feat\u001b[0m\u001b[0;34m[\u001b[0m\u001b[0msentence_pos\u001b[0m\u001b[0;34m[\u001b[0m\u001b[0mposition\u001b[0m\u001b[0;34m+\u001b[0m\u001b[0;36m2\u001b[0m\u001b[0;34m]\u001b[0m\u001b[0;34m]\u001b[0m\u001b[0;34m=\u001b[0m\u001b[0;36m1\u001b[0m\u001b[0;34m\u001b[0m\u001b[0m\n\u001b[1;32m     47\u001b[0m             \u001b[0mlast_pos_feat\u001b[0m\u001b[0;34m[\u001b[0m\u001b[0msentence_pos\u001b[0m\u001b[0;34m[\u001b[0m\u001b[0mposition\u001b[0m\u001b[0;34m-\u001b[0m\u001b[0;36m1\u001b[0m\u001b[0;34m]\u001b[0m\u001b[0;34m]\u001b[0m\u001b[0;34m=\u001b[0m\u001b[0;36m1\u001b[0m\u001b[0;34m\u001b[0m\u001b[0m\n",
      "\u001b[0;31mIndexError\u001b[0m: list index out of range"
     ]
    }
   ],
   "source": [
    "feat = neighbors_pos(position=18,sentence_pos=t_index)"
   ]
  },
  {
   "cell_type": "code",
   "execution_count": 168,
   "metadata": {
    "collapsed": false
   },
   "outputs": [
    {
     "name": "stdout",
     "output_type": "stream",
     "text": [
      "46\n",
      "46\n",
      "33\n",
      "25\n"
     ]
    }
   ],
   "source": [
    "for i in feat:\n",
    "    print np.argmax(i)"
   ]
  },
  {
   "cell_type": "code",
   "execution_count": 169,
   "metadata": {
    "collapsed": false
   },
   "outputs": [
    {
     "data": {
      "text/plain": [
       "[25, 25, 4, 33, 24, 8, 4, 38, 44, 11, 15, 36, 11, 8, 15, 25, 33, 18]"
      ]
     },
     "execution_count": 169,
     "metadata": {},
     "output_type": "execute_result"
    }
   ],
   "source": [
    "t_index"
   ]
  },
  {
   "cell_type": "code",
   "execution_count": 163,
   "metadata": {
    "collapsed": false
   },
   "outputs": [
    {
     "data": {
      "text/plain": [
       "(array([ 0.,  0.,  0.,  0.,  0.,  0.,  0.,  0.,  0.,  0.,  0.,  0.,  0.,\n",
       "         0.,  0.,  0.,  0.,  0.,  1.,  0.,  0.,  0.,  0.,  0.,  0.,  0.,\n",
       "         0.,  0.,  0.,  0.,  0.,  0.,  0.,  0.,  0.,  0.,  0.,  0.,  0.,\n",
       "         0.,  0.,  0.,  0.,  0.,  0.,  0.,  0.]),\n",
       " array([ 0.,  0.,  0.,  0.,  0.,  0.,  0.,  0.,  0.,  0.,  0.,  0.,  0.,\n",
       "         0.,  0.,  0.,  0.,  0.,  0.,  0.,  0.,  0.,  0.,  0.,  0.,  0.,\n",
       "         0.,  0.,  0.,  0.,  0.,  0.,  0.,  0.,  0.,  0.,  0.,  0.,  0.,\n",
       "         0.,  0.,  0.,  0.,  0.,  0.,  0.,  1.]),\n",
       " array([ 0.,  0.,  0.,  0.,  0.,  0.,  0.,  0.,  0.,  0.,  0.,  0.,  0.,\n",
       "         0.,  0.,  0.,  0.,  0.,  0.,  0.,  0.,  0.,  0.,  0.,  0.,  1.,\n",
       "         0.,  0.,  0.,  0.,  0.,  0.,  0.,  0.,  0.,  0.,  0.,  0.,  0.,\n",
       "         0.,  0.,  0.,  0.,  0.,  0.,  0.,  0.]),\n",
       " array([ 0.,  0.,  0.,  0.,  0.,  0.,  0.,  0.,  0.,  0.,  0.,  0.,  0.,\n",
       "         0.,  0.,  1.,  0.,  0.,  0.,  0.,  0.,  0.,  0.,  0.,  0.,  0.,\n",
       "         0.,  0.,  0.,  0.,  0.,  0.,  0.,  0.,  0.,  0.,  0.,  0.,  0.,\n",
       "         0.,  0.,  0.,  0.,  0.,  0.,  0.,  0.]))"
      ]
     },
     "execution_count": 163,
     "metadata": {},
     "output_type": "execute_result"
    }
   ],
   "source": [
    "feat"
   ]
  },
  {
   "cell_type": "code",
   "execution_count": null,
   "metadata": {
    "collapsed": true
   },
   "outputs": [],
   "source": []
  }
 ],
 "metadata": {
  "anaconda-cloud": {},
  "kernelspec": {
   "display_name": "Python [conda root]",
   "language": "python",
   "name": "conda-root-py"
  },
  "language_info": {
   "codemirror_mode": {
    "name": "ipython",
    "version": 2
   },
   "file_extension": ".py",
   "mimetype": "text/x-python",
   "name": "python",
   "nbconvert_exporter": "python",
   "pygments_lexer": "ipython2",
   "version": "2.7.12"
  }
 },
 "nbformat": 4,
 "nbformat_minor": 1
}
